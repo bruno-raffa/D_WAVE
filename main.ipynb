{
 "cells": [
  {
   "cell_type": "code",
   "execution_count": 1,
   "metadata": {},
   "outputs": [],
   "source": [
    "import os\n",
    "import itertools\n",
    "import click\n",
    "import pandas as pd\n",
    "import numpy as np\n",
    "from dwave.system import LeapHybridCQMSampler, LeapHybridSampler\n",
    "from dimod import ConstrainedQuadraticModel, BinaryQuadraticModel, QuadraticModel, quicksum, dimod\n",
    "from dotenv import load_dotenv, find_dotenv"
   ]
  },
  {
   "cell_type": "code",
   "execution_count": 2,
   "metadata": {},
   "outputs": [],
   "source": [
    "# Load Env Variables\n",
    "load_dotenv(find_dotenv())\n",
    "token = os.environ['DWAVE_API_KEY'] "
   ]
  },
  {
   "cell_type": "code",
   "execution_count": 3,
   "metadata": {},
   "outputs": [],
   "source": [
    "# Set up scenario\n",
    "num_pumps = 7\n",
    "pumps = ['P'+str(p+1) for p in range(num_pumps)]\n",
    "time = list(range(1, 25))\n",
    "power = [15, 37, 33, 33, 22, 33, 22]\n",
    "costs = [169]*7 + [283]*6 + [169]*3 + [336]*5 + [169]*3\n",
    "flow = [75, 133, 157, 176, 59, 69, 120]\n",
    "demand = [44.62, 31.27, 26.22, 27.51, 31.50, 46.18, 69.47, 100.36, 131.85, \n",
    "            148.51, 149.89, 142.21, 132.09, 129.29, 124.06, 114.68, 109.33, \n",
    "            115.76, 126.95, 131.48, 138.86, 131.91, 111.53, 70.43]\n",
    "            \n",
    "v_init = 550\n",
    "v_min = 523.5\n",
    "v_max = 1500"
   ]
  },
  {
   "cell_type": "code",
   "execution_count": 4,
   "metadata": {},
   "outputs": [],
   "source": [
    "def build_cqm(num_pumps=num_pumps, costs=costs, flow=flow, demand=demand):\n",
    "\n",
    "  print(\"\\nBuilding a CQM for {} pumps.\".format(str(num_pumps)))\n",
    "  cqm = ConstrainedQuadraticModel()\n",
    "\n",
    "  # Objective is to minimize the total costs\n",
    "  objective = QuadraticModel()\n",
    "  for p in range(num_pumps):\n",
    "      objective.add_linear_from(\n",
    "      ((x_labels[p][t], power[p]* costs[t]/1000) for t in range(len(time))), \n",
    "      default_vartype='BINARY'\n",
    "      )\n",
    "  cqm.set_objective(objective)\n",
    "  \n",
    "  #Constraint 1: Every pump runs at least once per day\n",
    "  for p in range(num_pumps):\n",
    "    c = QuadraticModel()\n",
    "    c.add_linear_from(\n",
    "        (\n",
    "        (v, 1) for v in x_labels[p] \n",
    "        ), \n",
    "        default_vartype='BINARY')\n",
    "    cqm.add_constraint_from_model(c, rhs=1, sense='>=', label=f'pump_running_{p}', copy=False)\n",
    "\n",
    "  #Constraint 2: At most num_pumps-1 pumps per time slot (1 pump kept off as a backup)\n",
    "  for t in range(len(time)):\n",
    "    c = QuadraticModel()\n",
    "    c.add_linear_from(\n",
    "        (\n",
    "        (v, 1) for v in y_labels[t] \n",
    "        ), \n",
    "        default_vartype='BINARY')\n",
    "    cqm.add_constraint_from_model(c, rhs=(num_pumps - 1), sense='<=', label=f'At most num_pumps-1_{t}', copy=False)\n",
    "\n",
    "  #Constraint 3: Satisfy a resource demand varying with time and level maintained within a specific range (v_min ÷v_max)\n",
    "  for t in range(len(time)):\n",
    "    water_level = v_init - sum(demand[0:t+1])\n",
    "    c = QuadraticModel()\n",
    "    c.add_linear_from(\n",
    "        (\n",
    "        (x_labels[p][k],(flow[p])) for p in range(num_pumps) for k in range(t+1)\n",
    "        ), \n",
    "        default_vartype='BINARY')\n",
    "    cqm.add_constraint_from_model(c, rhs=(v_min - water_level), sense='>=', copy=False)\n",
    "    \n",
    "  for t in range(len(time)):\n",
    "    water_level = v_init - sum(demand[0:t+1])\n",
    "    c = QuadraticModel()\n",
    "    c.add_linear_from(\n",
    "        (\n",
    "        (x_labels[p][k],(flow[p])) for p in range(num_pumps) for k in range(t+1)\n",
    "        ), \n",
    "        default_vartype='BINARY')\n",
    "    cqm.add_constraint_from_model(c, rhs=(v_max - water_level), sense='<=', copy=False)\n",
    "\n",
    "  return cqm"
   ]
  },
  {
   "cell_type": "code",
   "execution_count": 5,
   "metadata": {},
   "outputs": [],
   "source": [
    "def parse_solution(sampleset, costs=costs, flow=flow):\n",
    "\n",
    "  feasible_sampleset = sampleset.filter(lambda row: row.is_feasible)\n",
    "\n",
    "  if not len(feasible_sampleset):\n",
    "      raise ValueError(\"No feasible solution found\")\n",
    "\n",
    "  print(\"\\nProcessing sampleset returned...\")\n",
    "\n",
    "  y = [['P' + str(p) + '_' + str(t) for t in time] for p in range(num_pumps)]\n",
    "  best = feasible_sampleset.first\n",
    "\n",
    "\n",
    "  verbose = True\n",
    "  total_flow = 0\n",
    "  total_cost = 0\n",
    "  # Print out time slots header\n",
    "  if verbose:\n",
    "      timeslots = \"\\n\\t\" + \"\\t\".join(str(t) for t in time)\n",
    "      print(timeslots)\n",
    "  for p in range(num_pumps):\n",
    "    printout = str(pumps[p])\n",
    "    for t in range(len(time)):\n",
    "        printout += \"\\t\" + str(best.sample[y[p][t]])\n",
    "        total_flow += best.sample[y[p][t]] * flow[p]\n",
    "        total_cost += best.sample[y[p][t]] * costs[t] * power[p] / 1000\n",
    "    if verbose:\n",
    "        print(printout)\n",
    "\n",
    "\n",
    "  # Generate printout for general water levels\n",
    "  printout = \"Level:\\t\"\n",
    "  reservoir = [v_init]\n",
    "  pump_flow_schedule = []\n",
    "  for t in range(len(time)):\n",
    "      hourly_flow = reservoir[-1]\n",
    "      for p in range(num_pumps):\n",
    "          hourly_flow += best.sample[y[p][t]] * flow[p]\n",
    "      reservoir.append(hourly_flow-demand[t])\n",
    "      pump_flow_schedule.append(hourly_flow - reservoir[-2])\n",
    "      printout += str(int(reservoir[-1])) + \"\\t\"\n",
    "  if verbose:\n",
    "      print(\"\\n\" + printout)\n",
    "\n",
    "  # Print out total flow and cost information\n",
    "  print(\"\\nTotal flow:\\t\", total_flow)\n",
    "  print(\"Total cost:\\t\", total_cost, \"\\n\")\n"
   ]
  },
  {
   "cell_type": "code",
   "execution_count": 6,
   "metadata": {},
   "outputs": [
    {
     "name": "stdout",
     "output_type": "stream",
     "text": [
      "\n",
      "Building a CQM for 7 pumps.\n",
      "Submitting CQM to solver hybrid_constrained_quadratic_model_version1.\n"
     ]
    }
   ],
   "source": [
    "# Build the labels\n",
    "y_labels = [['P' + str(p) + '_' + str(t) for p in range(num_pumps)] for t in time ]\n",
    "x_labels = [['P' + str(p) + '_' + str(t) for t in time] for p in range(num_pumps)]\n",
    "\n",
    "# Initialize CQM\n",
    "cqm = build_cqm()\n",
    "\n",
    "# Instantiate the sampler\n",
    "sampler = LeapHybridCQMSampler(token=token)\n",
    "print(\"Submitting CQM to solver {}.\".format(sampler.solver.name))\n",
    "sampleset = sampler.sample_cqm(cqm, label='Example - Reservoir')\n",
    "     "
   ]
  },
  {
   "cell_type": "code",
   "execution_count": 7,
   "metadata": {},
   "outputs": [
    {
     "name": "stdout",
     "output_type": "stream",
     "text": [
      "\n",
      "Processing sampleset returned...\n",
      "\n",
      "\t1\t2\t3\t4\t5\t6\t7\t8\t9\t10\t11\t12\t13\t14\t15\t16\t17\t18\t19\t20\t21\t22\t23\t24\n",
      "P1\t0.0\t0.0\t0.0\t1.0\t1.0\t0.0\t1.0\t0.0\t0.0\t0.0\t0.0\t0.0\t0.0\t0.0\t0.0\t0.0\t0.0\t0.0\t0.0\t0.0\t0.0\t0.0\t0.0\t0.0\n",
      "P2\t1.0\t0.0\t0.0\t0.0\t0.0\t0.0\t0.0\t0.0\t0.0\t0.0\t0.0\t0.0\t0.0\t0.0\t0.0\t0.0\t0.0\t0.0\t0.0\t0.0\t0.0\t0.0\t0.0\t0.0\n",
      "P3\t0.0\t0.0\t0.0\t0.0\t0.0\t0.0\t0.0\t0.0\t0.0\t0.0\t0.0\t0.0\t0.0\t1.0\t0.0\t0.0\t0.0\t0.0\t0.0\t0.0\t0.0\t0.0\t0.0\t0.0\n",
      "P4\t0.0\t0.0\t0.0\t0.0\t1.0\t0.0\t1.0\t0.0\t0.0\t0.0\t0.0\t0.0\t0.0\t0.0\t1.0\t1.0\t0.0\t0.0\t0.0\t0.0\t0.0\t0.0\t1.0\t0.0\n",
      "P5\t0.0\t0.0\t0.0\t0.0\t0.0\t0.0\t0.0\t0.0\t0.0\t0.0\t0.0\t0.0\t0.0\t1.0\t0.0\t0.0\t0.0\t0.0\t0.0\t0.0\t0.0\t0.0\t0.0\t0.0\n",
      "P6\t0.0\t0.0\t0.0\t0.0\t0.0\t1.0\t0.0\t0.0\t0.0\t0.0\t0.0\t0.0\t0.0\t0.0\t0.0\t0.0\t0.0\t0.0\t0.0\t0.0\t0.0\t0.0\t0.0\t0.0\n",
      "P7\t1.0\t1.0\t0.0\t0.0\t0.0\t1.0\t0.0\t0.0\t0.0\t0.0\t0.0\t0.0\t0.0\t1.0\t1.0\t1.0\t0.0\t0.0\t0.0\t0.0\t0.0\t1.0\t0.0\t0.0\n",
      "\n",
      "Level:\t758\t847\t820\t868\t1087\t1230\t1412\t1311\t1180\t1031\t881\t739\t607\t814\t985\t1167\t1057\t942\t815\t683\t544\t533\t597\t527\t\n",
      "\n",
      "Total flow:\t 2363.0\n",
      "Total cost:\t 82.64100000000002 \n",
      "\n"
     ]
    }
   ],
   "source": [
    "parse_solution(sampleset)"
   ]
  },
  {
   "cell_type": "code",
   "execution_count": null,
   "metadata": {},
   "outputs": [],
   "source": []
  },
  {
   "cell_type": "code",
   "execution_count": null,
   "metadata": {},
   "outputs": [],
   "source": []
  }
 ],
 "metadata": {
  "kernelspec": {
   "display_name": "vdwave",
   "language": "python",
   "name": "python3"
  },
  "language_info": {
   "codemirror_mode": {
    "name": "ipython",
    "version": 3
   },
   "file_extension": ".py",
   "mimetype": "text/x-python",
   "name": "python",
   "nbconvert_exporter": "python",
   "pygments_lexer": "ipython3",
   "version": "3.10.11"
  },
  "orig_nbformat": 4
 },
 "nbformat": 4,
 "nbformat_minor": 2
}
